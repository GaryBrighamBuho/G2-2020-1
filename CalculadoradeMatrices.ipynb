{
  "nbformat": 4,
  "nbformat_minor": 0,
  "metadata": {
    "colab": {
      "name": "CalculadoradeMatrices.ipynb",
      "provenance": [],
      "toc_visible": true,
      "include_colab_link": true
    },
    "kernelspec": {
      "name": "python3",
      "display_name": "Python 3"
    }
  },
  "cells": [
    {
      "cell_type": "markdown",
      "metadata": {
        "id": "view-in-github",
        "colab_type": "text"
      },
      "source": [
        "<a href=\"https://colab.research.google.com/github/ParalelaUnsaac/G2-2020-1/blob/main/CalculadoradeMatrices.ipynb\" target=\"_parent\"><img src=\"https://colab.research.google.com/assets/colab-badge.svg\" alt=\"Open In Colab\"/></a>"
      ]
    },
    {
      "cell_type": "markdown",
      "metadata": {
        "id": "7uw2GqJO4-U2"
      },
      "source": [
        "#Ejemplo de ejecución\n",
        "A continuación se muestra un ejemplo de ejecución de un archivo escrito en C utilizando Google Colab.\n"
      ]
    },
    {
      "cell_type": "markdown",
      "metadata": {
        "id": "7MWurzrVIFdK"
      },
      "source": [
        "1. Guardando codigo de C en la variable **code**."
      ]
    },
    {
      "cell_type": "code",
      "metadata": {
        "id": "M_WZfcsTFVaT"
      },
      "source": [
        "code=\"\"\"\n",
        "#include <omp.h>\n",
        "#include <stdio.h> \n",
        "#include <stdlib.h> \n",
        "//using namespace std;\n",
        "\n",
        "int main()\n",
        "{\n",
        "  //Declaración variables\n",
        "\tint A[10] = { 1, 2, 3, 4, 5, 6, 7, 8, 9, 10 };\n",
        "\tint B[10] = { 11, 12, 13, 14, 15, 16, 17, 18, 19, 20 };\n",
        "\tint C[10] = {};\n",
        "\tint i, tid, fin, inicio;\n",
        "\n",
        "\t#pragma omp parallel private(i, tid, inicio,fin) shared(A, B, C) num_threads(2)\n",
        "\t{\n",
        "\t\ttid = omp_get_thread_num(); //Asignar identificador\n",
        "\t\tinicio = tid * 5;\n",
        "\t\tfin = (tid + 1) * 10 / 2;\n",
        "\t\t//Sumar arreglo\n",
        "\t\tfor (i = inicio; i < fin; i++)\n",
        "\t\t{\n",
        "\t\t\tC[i] = A[i] + B[i];\n",
        "\t\t}\n",
        "\t}\n",
        "\t//Mostrar Arreglo\n",
        "\tfor (int k = 0; k < 10; k++){\n",
        "    printf(\"%d \",C[k]);\n",
        "    }\n",
        "}\n",
        "\"\"\""
      ],
      "execution_count": null,
      "outputs": []
    },
    {
      "cell_type": "markdown",
      "metadata": {
        "id": "MWnEu03TI19H"
      },
      "source": [
        "2. Creando archivo **code.c** por medio de la variable **code**."
      ]
    },
    {
      "cell_type": "code",
      "metadata": {
        "id": "z8CLUMCZFaV4"
      },
      "source": [
        "text_file = open(\"code.c\", \"w\")\n",
        "text_file.write(code)\n",
        "text_file.close()"
      ],
      "execution_count": null,
      "outputs": []
    },
    {
      "cell_type": "markdown",
      "metadata": {
        "id": "lcAKKBKHH6s4"
      },
      "source": [
        "3. Designando el número de hilos a utilizar."
      ]
    },
    {
      "cell_type": "code",
      "metadata": {
        "id": "slJ2qYXnFcXA",
        "outputId": "58d4dafb-2fa1-4a54-c291-5483adddee8f",
        "colab": {
          "base_uri": "https://localhost:8080/",
          "height": 34
        }
      },
      "source": [
        "%env OMP_NUM_THREADS=2"
      ],
      "execution_count": null,
      "outputs": [
        {
          "output_type": "stream",
          "text": [
            "env: OMP_NUM_THREADS=2\n"
          ],
          "name": "stdout"
        }
      ]
    },
    {
      "cell_type": "markdown",
      "metadata": {
        "id": "RqLAnN63G7fO"
      },
      "source": [
        "4. Compilando el archivo generado."
      ]
    },
    {
      "cell_type": "code",
      "metadata": {
        "id": "uQAhZC6jFeFQ"
      },
      "source": [
        "!gcc -o file -fopenmp code.c"
      ],
      "execution_count": null,
      "outputs": []
    },
    {
      "cell_type": "markdown",
      "metadata": {
        "id": "6hgogvpnHChu"
      },
      "source": [
        "5. Ejecutando el archivo."
      ]
    },
    {
      "cell_type": "code",
      "metadata": {
        "id": "XFH-AFj3Ffvf",
        "outputId": "625543ed-2d89-4784-8a76-b720e8fbbccf",
        "colab": {
          "base_uri": "https://localhost:8080/",
          "height": 34
        }
      },
      "source": [
        "!./file"
      ],
      "execution_count": null,
      "outputs": [
        {
          "output_type": "stream",
          "text": [
            "12 14 16 18 20 22 24 26 28 30 "
          ],
          "name": "stdout"
        }
      ]
    }
  ]
}