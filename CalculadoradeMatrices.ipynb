{
  "nbformat": 4,
  "nbformat_minor": 0,
  "metadata": {
    "colab": {
      "name": "CalculadoradeMatrices.ipynb",
      "provenance": [],
      "collapsed_sections": [],
      "toc_visible": true,
      "include_colab_link": true
    },
    "kernelspec": {
      "name": "python3",
      "display_name": "Python 3"
    }
  },
  "cells": [
    {
      "cell_type": "markdown",
      "metadata": {
        "id": "view-in-github",
        "colab_type": "text"
      },
      "source": [
        "<a href=\"https://colab.research.google.com/github/ParalelaUnsaac/G2-2020-1/blob/main/CalculadoradeMatrices.ipynb\" target=\"_parent\"><img src=\"https://colab.research.google.com/assets/colab-badge.svg\" alt=\"Open In Colab\"/></a>"
      ]
    },
    {
      "cell_type": "markdown",
      "metadata": {
        "id": "7uw2GqJO4-U2"
      },
      "source": [
        "#Ejemplo de ejecución\n",
        "\n",
        "A continuación se muestra un ejemplo de ejecución de un archivo escrito en C utilizando Google Colab.\n"
      ]
    },
    {
      "cell_type": "markdown",
      "metadata": {
        "id": "7MWurzrVIFdK"
      },
      "source": [
        "1. Guardando codigo de C en la variable **code**."
      ]
    },
    {
      "cell_type": "code",
      "metadata": {
        "id": "M_WZfcsTFVaT"
      },
      "source": [
        "code=\"\"\"\n",
        "#include <omp.h>\n",
        "#include <stdio.h> \n",
        "#include <stdlib.h> \n",
        "//using namespace std;\n",
        "int* GenerarVector(int TamanioVector)\n",
        "{\n",
        "\tint* Vector = malloc(TamanioVector*sizeof(int*));\n",
        "\t#pragma omp parallel for\n",
        "\tfor (int i = 0; i < TamanioVector; i++)\n",
        "\t{\n",
        "\t\tVector[i] = rand() % 20 + 20;\n",
        "\t}\n",
        "\t//Mostrar Arreglo\n",
        "\tfor (int k = 0; k < TamanioVector; k++){\n",
        "    //printf(\"%d \",Vector[k]);\n",
        "  }\n",
        "\treturn Vector;\n",
        "}\n",
        "\n",
        "int** GenerarMatriz(int TamanioMatriz)\n",
        "{\n",
        "\tint** matrix = malloc(TamanioMatriz*sizeof(int**));\n",
        "\t\n",
        "\tfor (int i = 0; i < TamanioMatriz; i++)\n",
        "\t\tmatrix[i] = malloc(TamanioMatriz*sizeof(int*));\n",
        "\n",
        "\t//#pragma omp parallel for\n",
        "\tfor (int i = 0; i < TamanioMatriz; i++)\n",
        "\t{\n",
        "\t\tfor (int j = 0; j < TamanioMatriz; j++)\n",
        "\t\t{\n",
        "\t\t\tmatrix[i][j] = rand() % 100 - 50;\n",
        "\t\t\t//printf(\"%d \",matrix[i][j]);\n",
        "\t\t}\n",
        "        //printf(\"\\\\n\");\n",
        "\t}\n",
        "\treturn matrix;\n",
        "}\n",
        "\n",
        "int** GenerarMatriz2(int TamanioMatriz)\n",
        "{\n",
        "\tint** matrix = malloc(TamanioMatriz*sizeof(int**));\n",
        "\t\n",
        "\tfor (int i = 0; i < TamanioMatriz; i++)\n",
        "\t{\n",
        "\t\tmatrix[i] = malloc(TamanioMatriz*sizeof(int*));\n",
        "\t}\n",
        "\n",
        "\t#pragma omp parallel for\n",
        "\tfor (int i = 0; i < TamanioMatriz; i++)\n",
        "\t{\n",
        "\t\tfor (int j = 0; j < TamanioMatriz; j++)\n",
        "\t\t{\n",
        "\t\t\tmatrix[i][j] = rand() % 100 - 100;\n",
        "\t\t\tprintf(\"%d \",matrix[i][j]);\n",
        "\t\t}\n",
        "\t}\n",
        "\t//Mostrar Arreglo\n",
        "\tfor (int i = 0; i < 10; i++){\n",
        "\t\tfor (int j = 0; j < 10; j++){\n",
        "    \tprintf(\"%d \",matrix[i][j]);\n",
        "  \t}\n",
        "  }\n",
        "\treturn matrix;\n",
        "}\n",
        "\n",
        "void MostrarMatriz(int**M, int len)\n",
        "{\n",
        "    for (int i = 0; i < len; i++) {\n",
        "\t\tfor (int j = 0; j < len; j++)\n",
        "\t\t\tprintf(\"%d \",M[i][j]);\n",
        "        printf(\"\\\\n\");\n",
        "\t}\n",
        "}\n",
        "\n",
        "void Suma_Vectores(int Longitud)\n",
        "{\n",
        "\t//Declarando espacio en memoria\n",
        "\tint* Vector1 = malloc(Longitud*sizeof(int*));\n",
        "\tint* Vector2 = malloc(Longitud*sizeof(int*));\n",
        "\n",
        "\tVector1 = GenerarVector(Longitud);\n",
        "\tVector2 = GenerarVector(Longitud);\n",
        "\t\n",
        "\tint* Suma = malloc(Longitud*sizeof(int*));\n",
        "\tint i, tid, fin, inicio;\n",
        "\t#pragma omp parallel private(i, tid, inicio,fin) shared(Vector1, Vector2, Suma) num_threads(2)\n",
        "\t{\n",
        "\t\ttid = omp_get_thread_num(); //Asignar identificador\n",
        "\t\tinicio = tid * Longitud / 2;\n",
        "\t\tfin = (tid + 1) * Longitud / 2;\n",
        "\t\t//Sumar arreglo\n",
        "\t\tfor (i = inicio; i < fin; i++)\n",
        "\t\t{\n",
        "\t\t\tSuma[i] = Vector1[i] + Vector2[i];\n",
        "\t\t}\n",
        "\t}\n",
        "\t//Mostrar Arreglo\n",
        "\tfor (int k = 0; k < Longitud; k++){\n",
        "    printf(\"%d \",Suma[k]);\n",
        "  }\n",
        "\t//return Suma;\n",
        "}\n",
        "void Suma_Matrices(int Longitud)\n",
        "{\n",
        "  //Generar matices A Y B aleatoriamente\n",
        "\tint** A = malloc(Longitud*sizeof(int**));\n",
        "\tA = GenerarMatriz(Longitud);\n",
        "\n",
        "\tint** B = malloc(Longitud*sizeof(int**));\n",
        "\tB = GenerarMatriz(Longitud);\n",
        "\n",
        "\t//mostrar la matriz A generada\n",
        "\tfor (int k = 0; k < Longitud; k++){\n",
        "\t\tfor(int i=0;i<Longitud;i++){\n",
        "\t\t\tprintf(\"%d \",A[k][i]);\n",
        "\t\t}\n",
        "\t\tprintf(\"\\\\n\");\n",
        "  }\t\n",
        "\t//mostrar la matriz B generada\n",
        "\tfor (int k = 0; k < Longitud; k++){\n",
        "\t\tfor(int i=0;i<Longitud;i++){\n",
        "\t\t\tprintf(\"%d \",B[k][i]);\n",
        "\t\t}\n",
        "\t\tprintf(\"\\\\n\");\n",
        "  }\t\n",
        "\n",
        "\t//inicializando matriz resultado C\n",
        "\tint** C = malloc(Longitud*sizeof(int**));\n",
        "\tfor (int i = 0; i < Longitud; i++)\n",
        "\t\tC[i] = malloc(Longitud*sizeof(int*));\n",
        "\n",
        "\t//inicializando valores\n",
        "\tint i,j;\n",
        "\t//empieza  la region paralela\n",
        "\t#pragma omp parallel \n",
        "\t{\n",
        "\t\t#pragma omp for \n",
        "\t\tfor (i = 0; i < Longitud; i++) {\n",
        "\t\t\tfor (j = 0; j < Longitud; j++) {\n",
        "\t\t\t\tC[i][j] = A[i][j] + B[i][j];\n",
        "\t\t\t\t}\n",
        "\t\t\t}\n",
        "\t\t}\n",
        "\t\t//Mostrar el resultado de la suma de Matriz\n",
        "\t\tfor (int k = 0; k < Longitud; k++){\n",
        "\t\t\tfor(int i = 0; i < Longitud; i++){\n",
        "\t\t\t\tprintf(\"%d \",C[k][i]);\n",
        "\t\t\t}\n",
        "\t\t\tprintf(\"\\\\n\");\n",
        "  \t}\t\n",
        "}\n",
        "void Multiplicacion_Matrices(int Longitud)\n",
        "{\n",
        "//Generar matices A Y B aleatoriamente\n",
        "\tint** A = malloc(Longitud*sizeof(int**));\n",
        "\tfor (int i = 0; i < Longitud; i++)\n",
        "\t\tA[i] = malloc(Longitud*sizeof(int*));\n",
        "\tA = GenerarMatriz(Longitud);\n",
        "\n",
        "\tint** B = malloc(Longitud*sizeof(int**));\n",
        "\tfor (int i = 0; i < Longitud; i++)\n",
        "\t\tB[i] = malloc(Longitud*sizeof(int*));\n",
        "\tB = GenerarMatriz(Longitud);\n",
        "\n",
        "\t//mostrar la matriz A generada\n",
        "\tMostrarMatriz(A,Longitud);\n",
        "\tprintf(\"\\\\n\");\n",
        "  \n",
        "\t//mostrar la matriz B generada\n",
        "\tMostrarMatriz(B,Longitud);\n",
        "\tprintf(\"\\\\n\");\n",
        "  \n",
        "\t//inicializando matriz resultado C\n",
        "\tint** C = malloc(Longitud*sizeof(int**));\n",
        "\tfor (int i = 0; i < Longitud; i++)\n",
        "\t\tC[i] = malloc(Longitud*sizeof(int*));\n",
        "\n",
        "\t//inicializando valores\n",
        "\tint i,j,k;\n",
        "\t//empieza  la region paralela\n",
        "\t#pragma omp parallel \n",
        "\t{\n",
        "\t\t#pragma omp for \n",
        "\t\tfor (i = 0; i < Longitud\t; i++) {\n",
        "      \t\tfor (j = 0; j < Longitud; j++) {\n",
        "\t\t\t\tfloat res=0;\n",
        "        \t\tfor (k = 0; k < Longitud; k++) {\n",
        "            \t\tres=res+ A[i][k] * B[k][j];\n",
        "         }\n",
        "\t\t\t\t C[i][j]=res;\n",
        "\t\t\t\t}\n",
        "\t\t\t}\n",
        "\t\t}\n",
        "\t\n",
        "\n",
        "\t//Mostrar el resultado de la multiplicacion de Matriz\n",
        "\tMostrarMatriz(C,Longitud);\n",
        "}\n",
        "\n",
        "void Transpuesta(int len)\n",
        "{\n",
        "\t//Creando matriz aleatoria\n",
        "    int** M = malloc(len*sizeof(int**));\n",
        "    for (int i = 0; i < len; i++)\n",
        "        M[i] = malloc(len*sizeof(int**));\n",
        "\n",
        "\tM = GenerarMatriz(len);\n",
        "\n",
        "\tMostrarMatriz(M, len); printf(\"\\\\n\");\n",
        "\n",
        "    //MostrarMatriz(M,len);\n",
        "\n",
        "    //Asignando espacio en memoria\n",
        "\tint** T = malloc(len*sizeof(int**));\n",
        "    for (int i = 0; i < len; i++)\n",
        "            T[i] = malloc(len*sizeof(int**));\n",
        "      \n",
        "\t#pragma omp parallel\n",
        "\t{\n",
        "\t\t#pragma opm for\n",
        "\t\tfor (int i = 0; i < len; i++)\n",
        "\t\t\tfor (int j = 0; j < len; j++)\n",
        "\t\t\t\tT[i][j] = M[j][i];\n",
        "\t}\n",
        "    MostrarMatriz(T,len);\n",
        "}\n",
        "\n",
        "int main()\n",
        "{\n",
        "\t/*\n",
        "\t#pragma omp parallel sections \n",
        "\t{\n",
        "\t\t#pragma omp section\n",
        "\t\t{\n",
        "\t\t\tprintf(\"\\\\nSuma vectores \\\\n\");\n",
        "\t\t\tSuma_Vectores(4);\n",
        "\t\t}\n",
        "\n",
        "\t\t#pragma omp section\n",
        "\t\t{\n",
        "\t\t\tprintf(\"\\\\nSuma matrices \\\\n\");\n",
        "\t\t\tSuma_Matrices(4);\n",
        "\t\t}\n",
        "\n",
        "\t\t#pragma omp section\n",
        "\t\t{\n",
        "\t\t\tprintf(\"\\\\nMultiplicación vectores \\\\n\");\n",
        "\t\t\tMultiplicacion_Matrices(1);\n",
        "\t\t}\n",
        "\n",
        "\t\t#pragma omp section\n",
        "\t\t{\n",
        "\t\t\tprintf(\"\\\\nTranspuesta \\\\n\");\t\n",
        "\t\t\tTranspuesta(4);\n",
        "\t\t}\n",
        "\t}\n",
        "\t*/\n",
        "\n",
        "\tprintf(\"\\\\nSuma vectores \\\\n\");\n",
        "\tSuma_Vectores(4);\n",
        "\n",
        "\tprintf(\"\\\\nTranspuesta \\\\n\");\t\n",
        "\tTranspuesta(3);\n",
        "\t\n",
        "\tprintf(\"\\\\nMultiplicación Matrices \\\\n\");\n",
        "\tMultiplicacion_Matrices(2);\n",
        "\n",
        "\tprintf(\"\\\\nSuma matrices \\\\n\");\n",
        "\tSuma_Matrices(2);\n",
        "\n",
        "}\n",
        "\"\"\""
      ],
      "execution_count": 435,
      "outputs": []
    },
    {
      "cell_type": "markdown",
      "metadata": {
        "id": "MWnEu03TI19H"
      },
      "source": [
        "2. Creando archivo **code.c** por medio de la variable **code**."
      ]
    },
    {
      "cell_type": "code",
      "metadata": {
        "id": "z8CLUMCZFaV4"
      },
      "source": [
        "text_file = open(\"code.c\", \"w\")\n",
        "text_file.write(code)\n",
        "text_file.close()"
      ],
      "execution_count": 436,
      "outputs": []
    },
    {
      "cell_type": "markdown",
      "metadata": {
        "id": "lcAKKBKHH6s4"
      },
      "source": [
        "3. Designando el número de hilos a utilizar."
      ]
    },
    {
      "cell_type": "code",
      "metadata": {
        "id": "slJ2qYXnFcXA",
        "outputId": "01ecc097-ab95-4017-b7fd-2c90ae397715",
        "colab": {
          "base_uri": "https://localhost:8080/",
          "height": 35
        }
      },
      "source": [
        "%env OMP_NUM_THREADS=2"
      ],
      "execution_count": 437,
      "outputs": [
        {
          "output_type": "stream",
          "text": [
            "env: OMP_NUM_THREADS=2\n"
          ],
          "name": "stdout"
        }
      ]
    },
    {
      "cell_type": "markdown",
      "metadata": {
        "id": "RqLAnN63G7fO"
      },
      "source": [
        "4. Compilando el archivo generado."
      ]
    },
    {
      "cell_type": "code",
      "metadata": {
        "id": "uQAhZC6jFeFQ"
      },
      "source": [
        "!gcc -o file -fopenmp code.c"
      ],
      "execution_count": 438,
      "outputs": []
    },
    {
      "cell_type": "markdown",
      "metadata": {
        "id": "6hgogvpnHChu"
      },
      "source": [
        "5. Ejecutando el archivo."
      ]
    },
    {
      "cell_type": "code",
      "metadata": {
        "id": "XFH-AFj3Ffvf",
        "outputId": "34e2a6f0-27df-4cda-b4cd-87a44e910f8b",
        "colab": {
          "base_uri": "https://localhost:8080/",
          "height": 545
        }
      },
      "source": [
        "!./file"
      ],
      "execution_count": 439,
      "outputs": [
        {
          "output_type": "stream",
          "text": [
            "\n",
            "Suma vectores \n",
            "49 58 70 70 \n",
            "Transpuesta \n",
            "-1 -29 12 \n",
            "-23 40 9 \n",
            "13 -24 -10 \n",
            "\n",
            "-1 -23 13 \n",
            "-29 40 -24 \n",
            "12 9 -10 \n",
            "\n",
            "Multiplicación Matrices \n",
            "-24 22 \n",
            "-14 -39 \n",
            "\n",
            "18 17 \n",
            "-21 32 \n",
            "\n",
            "-894 296 \n",
            "567 -1486 \n",
            "\n",
            "Suma matrices \n",
            "-20 12 \n",
            "-27 17 \n",
            "-15 -21 \n",
            "-48 -28 \n",
            "-35 -9 \n",
            "-75 -11 \n"
          ],
          "name": "stdout"
        }
      ]
    }
  ]
}