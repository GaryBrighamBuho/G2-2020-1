{
  "nbformat": 4,
  "nbformat_minor": 0,
  "metadata": {
    "colab": {
      "name": "Copia de CalculadoradeMatrices.ipynb",
      "provenance": [],
      "toc_visible": true,
      "include_colab_link": true
    },
    "kernelspec": {
      "name": "python3",
      "display_name": "Python 3"
    }
  },
  "cells": [
    {
      "cell_type": "markdown",
      "metadata": {
        "id": "view-in-github",
        "colab_type": "text"
      },
      "source": [
        "<a href=\"https://colab.research.google.com/github/ParalelaUnsaac/G2-2020-1/blob/main/Copia_de_CalculadoradeMatrices.ipynb\" target=\"_parent\"><img src=\"https://colab.research.google.com/assets/colab-badge.svg\" alt=\"Open In Colab\"/></a>"
      ]
    },
    {
      "cell_type": "markdown",
      "metadata": {
        "id": "7uw2GqJO4-U2"
      },
      "source": [
        "#Ejemplo de ejecución\n",
        "A continuación se muestra un ejemplo de ejecución de un archivo escrito en C utilizando Google Colab.\n"
      ]
    },
    {
      "cell_type": "markdown",
      "metadata": {
        "id": "7MWurzrVIFdK"
      },
      "source": [
        "1. Guardando codigo de C en la variable **code**."
      ]
    },
    {
      "cell_type": "code",
      "metadata": {
        "id": "fYChXKKlU3_n"
      },
      "source": [
        "code=\"\"\"\n",
        "#include <omp.h>\n",
        "#include <stdio.h> \n",
        "#include <stdlib.h> \n",
        "//using namespace std;\n",
        "int main()\n",
        "{\n",
        "    #pragma omp parallel sections num_threads(4)\n",
        "\t{\n",
        "\n",
        "#pragma omp section\n",
        "\n",
        "\t\tFunc1();\n",
        "\n",
        "\n",
        "#pragma omp section\n",
        "\n",
        "\t\tFunc2();\n",
        "\n",
        "\n",
        "#pragma omp section\n",
        "\n",
        "\t\tFunc3();\n",
        "\n",
        "\n",
        "#pragma omp section\n",
        "\n",
        "\t\tFunc4();\n",
        "\n",
        "\t}\n",
        "    return 0;\n",
        "}\n",
        "\"\"\""
      ],
      "execution_count": 49,
      "outputs": []
    },
    {
      "cell_type": "markdown",
      "metadata": {
        "id": "MWnEu03TI19H"
      },
      "source": [
        "2. Creando archivo **code.c** por medio de la variable **code**."
      ]
    },
    {
      "cell_type": "code",
      "metadata": {
        "id": "z8CLUMCZFaV4"
      },
      "source": [
        "text_file = open(\"code.c\", \"w\")\n",
        "text_file.write(code)\n",
        "text_file.close()"
      ],
      "execution_count": 50,
      "outputs": []
    },
    {
      "cell_type": "markdown",
      "metadata": {
        "id": "lcAKKBKHH6s4"
      },
      "source": [
        "3. Designando el número de hilos a utilizar."
      ]
    },
    {
      "cell_type": "code",
      "metadata": {
        "id": "slJ2qYXnFcXA"
      },
      "source": [
        "%env OMP_NUM_THREADS=2"
      ],
      "execution_count": null,
      "outputs": []
    },
    {
      "cell_type": "markdown",
      "metadata": {
        "id": "RqLAnN63G7fO"
      },
      "source": [
        "4. Compilando el archivo generado."
      ]
    },
    {
      "cell_type": "code",
      "metadata": {
        "id": "uQAhZC6jFeFQ"
      },
      "source": [
        "!gcc -o file -fopenmp code.c"
      ],
      "execution_count": null,
      "outputs": []
    },
    {
      "cell_type": "markdown",
      "metadata": {
        "id": "6hgogvpnHChu"
      },
      "source": [
        "5. Ejecutando el archivo."
      ]
    },
    {
      "cell_type": "code",
      "metadata": {
        "id": "XFH-AFj3Ffvf"
      },
      "source": [
        "!./file"
      ],
      "execution_count": null,
      "outputs": []
    }
  ]
}